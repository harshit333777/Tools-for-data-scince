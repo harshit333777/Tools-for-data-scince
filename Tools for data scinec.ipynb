{
  "metadata": {
    "language_info": {
      "codemirror_mode": {
        "name": "python",
        "version": 3
      },
      "file_extension": ".py",
      "mimetype": "text/x-python",
      "name": "python",
      "nbconvert_exporter": "python",
      "pygments_lexer": "ipython3",
      "version": "3.8"
    },
    "kernelspec": {
      "name": "python",
      "display_name": "Python (Pyodide)",
      "language": "python"
    }
  },
  "nbformat_minor": 4,
  "nbformat": 4,
  "cells": [
    {
      "cell_type": "markdown",
      "source": "# MY Firstt assignment",
      "metadata": {}
    },
    {
      "cell_type": "markdown",
      "source": "## Introduction\n\nThis is my  First peer graded Assignment ",
      "metadata": {}
    },
    {
      "cell_type": "markdown",
      "source": "Following are the data science language\n1. Julia\n2.  Python\n3.  R\n4.  Java\n5.  SQL",
      "metadata": {}
    },
    {
      "cell_type": "markdown",
      "source": "Following are the data scinec libraries\n1.  Matplotlib\n2.  Numpy\n3.  Tensor flow\n4.  Pandas \n5.  Keras",
      "metadata": {}
    },
    {
      "cell_type": "markdown",
      "source": "\n  S no. | Data Science Tools \n  |---- | -------------------- | \n |1 | Python|\n |2 | Jupyter|\n |3| Matlab |\n |4| Google Collab|\n |5| Matplotlib|\n\n",
      "metadata": {}
    },
    {
      "cell_type": "code",
      "source": "A= 2\nb = 4\nc= A+b\nprint(c)",
      "metadata": {
        "trusted": true
      },
      "execution_count": 22,
      "outputs": [
        {
          "name": "stdout",
          "text": "6\n",
          "output_type": "stream"
        }
      ]
    },
    {
      "cell_type": "code",
      "source": "mul = A*b\nprint( 'multiply = ',mul)\nadd  = A+b\nprint('sum = ' ,add)",
      "metadata": {
        "trusted": true
      },
      "execution_count": 24,
      "outputs": [
        {
          "name": "stdout",
          "text": "multiply =  8\nsum =  6\n",
          "output_type": "stream"
        }
      ]
    },
    {
      "cell_type": "code",
      "source": "minute = 56;\nsecond = minute *60\nprint('Converted minute into second = ' , second)",
      "metadata": {
        "trusted": true
      },
      "execution_count": 25,
      "outputs": [
        {
          "name": "stdout",
          "text": "Converted minute into second =  3360\n",
          "output_type": "stream"
        }
      ]
    },
    {
      "cell_type": "markdown",
      "source": "Objective - To learn Jupyter notebook",
      "metadata": {}
    },
    {
      "cell_type": "code",
      "source": "",
      "metadata": {},
      "execution_count": null,
      "outputs": []
    }
  ]
}